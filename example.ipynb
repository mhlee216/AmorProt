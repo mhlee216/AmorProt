{
 "cells": [
  {
   "cell_type": "code",
   "execution_count": 1,
   "id": "fea52b51",
   "metadata": {},
   "outputs": [],
   "source": [
    "from amorprot import AmorProt\n",
    "import pandas as pd\n",
    "import numpy as np\n",
    "import parmap"
   ]
  },
  {
   "cell_type": "code",
   "execution_count": 2,
   "id": "0d11462f",
   "metadata": {},
   "outputs": [
    {
     "data": {
      "text/plain": [
       "array([0.        , 0.        , 0.        , ..., 0.03326195, 0.06666993,\n",
       "       0.        ], dtype=float32)"
      ]
     },
     "execution_count": 2,
     "metadata": {},
     "output_type": "execute_result"
    }
   ],
   "source": [
    "ap = AmorProt(maccs=True, ecfp4=True, ecfp6=True, rdkit=False)\n",
    "fp = ap.fingerprint('MATGGRRGAAAAPLLVAVAALLLGAAGHLYPGEVCPGMDIRNNLTRLHELENCSVIEGHL')\n",
    "fp"
   ]
  },
  {
   "cell_type": "code",
   "execution_count": 3,
   "id": "2d6c125c",
   "metadata": {},
   "outputs": [],
   "source": [
    "def make_fp(inputs):\n",
    "    ap, sq = inputs\n",
    "    return ap.fingerprint(sq).tolist()"
   ]
  },
  {
   "cell_type": "code",
   "execution_count": 4,
   "id": "29acd9f6",
   "metadata": {},
   "outputs": [
    {
     "data": {
      "text/html": [
       "<div>\n",
       "<style scoped>\n",
       "    .dataframe tbody tr th:only-of-type {\n",
       "        vertical-align: middle;\n",
       "    }\n",
       "\n",
       "    .dataframe tbody tr th {\n",
       "        vertical-align: top;\n",
       "    }\n",
       "\n",
       "    .dataframe thead th {\n",
       "        text-align: right;\n",
       "    }\n",
       "</style>\n",
       "<table border=\"1\" class=\"dataframe\">\n",
       "  <thead>\n",
       "    <tr style=\"text-align: right;\">\n",
       "      <th></th>\n",
       "      <th>sequence</th>\n",
       "    </tr>\n",
       "  </thead>\n",
       "  <tbody>\n",
       "    <tr>\n",
       "      <th>0</th>\n",
       "      <td>GHSTCLSEGALSPDGTVLATASHDGYVK</td>\n",
       "    </tr>\n",
       "    <tr>\n",
       "      <th>1</th>\n",
       "      <td>HSQEIAQFQAELAEAR</td>\n",
       "    </tr>\n",
       "    <tr>\n",
       "      <th>2</th>\n",
       "      <td>SESFELLR</td>\n",
       "    </tr>\n",
       "    <tr>\n",
       "      <th>3</th>\n",
       "      <td>TPQPSSPMDQMGK</td>\n",
       "    </tr>\n",
       "    <tr>\n",
       "      <th>4</th>\n",
       "      <td>ACMVFQMPDKDEESR</td>\n",
       "    </tr>\n",
       "    <tr>\n",
       "      <th>...</th>\n",
       "      <td>...</td>\n",
       "    </tr>\n",
       "    <tr>\n",
       "      <th>995</th>\n",
       "      <td>NNAPVQILQEYVNLVEDVDTK</td>\n",
       "    </tr>\n",
       "    <tr>\n",
       "      <th>996</th>\n",
       "      <td>DALNSAMEEEMHRDSSVFLLGEEVAR</td>\n",
       "    </tr>\n",
       "    <tr>\n",
       "      <th>997</th>\n",
       "      <td>WLGGAVEDYFMR</td>\n",
       "    </tr>\n",
       "    <tr>\n",
       "      <th>998</th>\n",
       "      <td>DYFLASASCHQEAVEQTIMALQMDR</td>\n",
       "    </tr>\n",
       "    <tr>\n",
       "      <th>999</th>\n",
       "      <td>IMGESSLAPGTLPK</td>\n",
       "    </tr>\n",
       "  </tbody>\n",
       "</table>\n",
       "<p>1000 rows × 1 columns</p>\n",
       "</div>"
      ],
      "text/plain": [
       "                         sequence\n",
       "0    GHSTCLSEGALSPDGTVLATASHDGYVK\n",
       "1                HSQEIAQFQAELAEAR\n",
       "2                        SESFELLR\n",
       "3                   TPQPSSPMDQMGK\n",
       "4                 ACMVFQMPDKDEESR\n",
       "..                            ...\n",
       "995         NNAPVQILQEYVNLVEDVDTK\n",
       "996    DALNSAMEEEMHRDSSVFLLGEEVAR\n",
       "997                  WLGGAVEDYFMR\n",
       "998     DYFLASASCHQEAVEQTIMALQMDR\n",
       "999                IMGESSLAPGTLPK\n",
       "\n",
       "[1000 rows x 1 columns]"
      ]
     },
     "execution_count": 4,
     "metadata": {},
     "output_type": "execute_result"
    }
   ],
   "source": [
    "df = pd.read_csv('./data/example.csv')\n",
    "df"
   ]
  },
  {
   "cell_type": "code",
   "execution_count": 5,
   "id": "95c86106",
   "metadata": {},
   "outputs": [
    {
     "data": {
      "application/vnd.jupyter.widget-view+json": {
       "model_id": "9053a1ab200447e8821783b589cf8068",
       "version_major": 2,
       "version_minor": 0
      },
      "text/plain": [
       "  0%|          | 0/1000 [00:00<?, ?it/s]"
      ]
     },
     "metadata": {},
     "output_type": "display_data"
    },
    {
     "data": {
      "text/plain": [
       "array([[0.        , 0.        , 0.        , ..., 0.0713689 , 0.        ,\n",
       "        1.        ],\n",
       "       [0.        , 0.        , 0.        , ..., 0.06215781, 0.        ,\n",
       "        1.        ],\n",
       "       [0.        , 0.        , 0.        , ..., 0.        , 0.        ,\n",
       "        1.        ],\n",
       "       ...,\n",
       "       [0.        , 0.        , 0.        , ..., 0.        , 0.        ,\n",
       "        1.        ],\n",
       "       [0.        , 0.        , 0.        , ..., 0.03994403, 0.        ,\n",
       "        1.        ],\n",
       "       [0.        , 0.        , 0.        , ..., 0.        , 0.        ,\n",
       "        1.        ]])"
      ]
     },
     "execution_count": 5,
     "metadata": {},
     "output_type": "execute_result"
    }
   ],
   "source": [
    "ap = AmorProt(maccs=True, ecfp4=True, ecfp6=True, rdkit=True)\n",
    "fps_list = parmap.map(make_fp, [[ap, sq] for sq in df['sequence'].tolist()], \n",
    "                      pm_pbar=True, pm_processes=20)\n",
    "fps = np.array(fps_list)\n",
    "fps"
   ]
  },
  {
   "cell_type": "code",
   "execution_count": 6,
   "id": "76b70505",
   "metadata": {},
   "outputs": [
    {
     "data": {
      "text/plain": [
       "(1000, 4263)"
      ]
     },
     "execution_count": 6,
     "metadata": {},
     "output_type": "execute_result"
    }
   ],
   "source": [
    "fps.shape"
   ]
  },
  {
   "cell_type": "code",
   "execution_count": null,
   "id": "95b62c71",
   "metadata": {},
   "outputs": [],
   "source": []
  }
 ],
 "metadata": {
  "kernelspec": {
   "display_name": "Python 3 (ipykernel)",
   "language": "python",
   "name": "python3"
  },
  "language_info": {
   "codemirror_mode": {
    "name": "ipython",
    "version": 3
   },
   "file_extension": ".py",
   "mimetype": "text/x-python",
   "name": "python",
   "nbconvert_exporter": "python",
   "pygments_lexer": "ipython3",
   "version": "3.8.12"
  }
 },
 "nbformat": 4,
 "nbformat_minor": 5
}
